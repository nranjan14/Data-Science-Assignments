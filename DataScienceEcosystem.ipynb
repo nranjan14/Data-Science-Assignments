{
 "cells": [
  {
   "cell_type": "markdown",
   "id": "5b3a616b",
   "metadata": {},
   "source": [
    "# Data Science Tools and Ecosystem"
   ]
  },
  {
   "cell_type": "markdown",
   "id": "eabbb36f",
   "metadata": {},
   "source": [
    "In this notebook, Data Science Tools and Ecosystem are summarized."
   ]
  },
  {
   "cell_type": "markdown",
   "id": "6876f3da",
   "metadata": {},
   "source": [
    " Some of the popular languages that Data Scientists use are: <br> \n",
    " 1. Python\n",
    " 1. R\n",
    " 1. Scala"
   ]
  },
  {
   "cell_type": "markdown",
   "id": "cd941f9a",
   "metadata": {},
   "source": [
    "Some of the commonly used libraries used by Data Scientists include: <br>\n",
    "1. Scikit-Learn\n",
    "1. TensorFlow\n",
    "1. PyTorch\n",
    "1. Pandas\n",
    "1. NumPy"
   ]
  },
  {
   "cell_type": "markdown",
   "id": "f86ded01",
   "metadata": {},
   "source": [
    "|Data Science Tools|\n",
    "|------------------|\n",
    "|Jupyter Notebook|\n",
    "|R Studio|\n",
    "|Zeppelin|"
   ]
  },
  {
   "cell_type": "markdown",
   "id": "64e83b31",
   "metadata": {},
   "source": [
    "### Below are a few examples of evaluating arithmetic expressions in Python"
   ]
  },
  {
   "cell_type": "code",
   "execution_count": 1,
   "id": "d81e4316",
   "metadata": {},
   "outputs": [
    {
     "data": {
      "text/plain": [
       "17"
      ]
     },
     "execution_count": 1,
     "metadata": {},
     "output_type": "execute_result"
    }
   ],
   "source": [
    "# This a simple arithmetic expression to mutiply then add integers\n",
    "(3*4)+5"
   ]
  },
  {
   "cell_type": "code",
   "execution_count": 2,
   "id": "f4792434",
   "metadata": {},
   "outputs": [
    {
     "data": {
      "text/plain": [
       "3.3333333333333335"
      ]
     },
     "execution_count": 2,
     "metadata": {},
     "output_type": "execute_result"
    }
   ],
   "source": [
    "# This will convert 200 minutes to hours by diving by 60\n",
    "200/60"
   ]
  },
  {
   "cell_type": "markdown",
   "id": "91effd33",
   "metadata": {},
   "source": [
    "__Objectives:__\n",
    "- Some of the popular languages that Data Scientists use\n",
    "- Some of the commonly used libraries used by Data Scientists\n",
    "- Some data science tools\n",
    "- Few examples of arithmetic expressions"
   ]
  },
  {
   "cell_type": "markdown",
   "id": "fb0b864c",
   "metadata": {},
   "source": [
    "## Author\n",
    "Nitesh Ranjan"
   ]
  },
  {
   "cell_type": "code",
   "execution_count": null,
   "id": "413712b2",
   "metadata": {},
   "outputs": [],
   "source": []
  }
 ],
 "metadata": {
  "kernelspec": {
   "display_name": "Python 3 (ipykernel)",
   "language": "python",
   "name": "python3"
  },
  "language_info": {
   "codemirror_mode": {
    "name": "ipython",
    "version": 3
   },
   "file_extension": ".py",
   "mimetype": "text/x-python",
   "name": "python",
   "nbconvert_exporter": "python",
   "pygments_lexer": "ipython3",
   "version": "3.9.12"
  }
 },
 "nbformat": 4,
 "nbformat_minor": 5
}
